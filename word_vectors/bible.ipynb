{
 "cells": [
  {
   "cell_type": "markdown",
   "metadata": {},
   "source": [
    "Get the King james' bible from [project gutenberg](https://www.gutenberg.org/ebooks/30)"
   ]
  },
  {
   "cell_type": "code",
   "execution_count": 1,
   "metadata": {
    "collapsed": false
   },
   "outputs": [],
   "source": [
    "import gensim\n",
    "from gensim.models import Word2Vec"
   ]
  },
  {
   "cell_type": "code",
   "execution_count": 22,
   "metadata": {
    "collapsed": false
   },
   "outputs": [],
   "source": [
    "import gensim\n",
    "with open('bible.txt', 'r', encoding='utf-8') as bible:\n",
    "    sentences = [line.split(\" \") for line in bible.readlines()]\n",
    "    model = gensim.models.Word2Vec(sentences, size=30)"
   ]
  },
  {
   "cell_type": "code",
   "execution_count": 23,
   "metadata": {
    "collapsed": false
   },
   "outputs": [
    {
     "data": {
      "text/plain": [
       "[('child', 0.8496785759925842),\n",
       " ('nation', 0.8332142233848572),\n",
       " ('lion', 0.8201789855957031),\n",
       " ('prophet', 0.8034292459487915),\n",
       " ('serpent', 0.8029346466064453),\n",
       " ('matter', 0.7906046509742737),\n",
       " ('vision', 0.7898432016372681),\n",
       " ('basket', 0.7863585352897644),\n",
       " ('parcel', 0.7841213345527649),\n",
       " ('copy', 0.7796776294708252)]"
      ]
     },
     "execution_count": 23,
     "metadata": {},
     "output_type": "execute_result"
    }
   ],
   "source": [
    "model.most_similar('woman')"
   ]
  },
  {
   "cell_type": "code",
   "execution_count": 24,
   "metadata": {
    "collapsed": false
   },
   "outputs": [],
   "source": [
    "model.init_sims(replace=True)\n",
    "model.save('bible_model.gensim')\n",
    "model.save_word2vec_format('bible_model.txt', binary=False)  # C binary format\n",
    "model.save_word2vec_format('bible_model.bin', binary=True)  # C binary format"
   ]
  },
  {
   "cell_type": "code",
   "execution_count": 25,
   "metadata": {
    "collapsed": false
   },
   "outputs": [],
   "source": [
    "from gensim.models import Word2Vec\n",
    "loaded = Word2Vec.load_word2vec_format('bible_model.bin', binary=True)"
   ]
  },
  {
   "cell_type": "code",
   "execution_count": 26,
   "metadata": {
    "collapsed": false
   },
   "outputs": [
    {
     "data": {
      "text/plain": [
       "[('Jezebel', 0.9441503286361694),\n",
       " ('Pharisees', 0.9413983225822449),\n",
       " ('Chaldeans', 0.9409012198448181),\n",
       " ('ships', 0.9397168755531311),\n",
       " ('ambassadors', 0.9268788695335388),\n",
       " ('perfection', 0.9215966463088989),\n",
       " ('Elisha', 0.9136043190956116),\n",
       " ('Elijah', 0.9125902652740479),\n",
       " ('Absalom', 0.9114714860916138),\n",
       " ('Jehoshaphat', 0.9099228978157043)]"
      ]
     },
     "execution_count": 26,
     "metadata": {},
     "output_type": "execute_result"
    }
   ],
   "source": [
    "loaded.most_similar('queen')"
   ]
  },
  {
   "cell_type": "code",
   "execution_count": 36,
   "metadata": {
    "collapsed": false
   },
   "outputs": [
    {
     "data": {
      "text/plain": [
       "[('captain', 0.8472548127174377)]"
      ]
     },
     "execution_count": 36,
     "metadata": {},
     "output_type": "execute_result"
    }
   ],
   "source": [
    "loaded.most_similar(positive=['king', 'child'], negative=['man'], topn=1)\n"
   ]
  },
  {
   "cell_type": "code",
   "execution_count": null,
   "metadata": {
    "collapsed": true
   },
   "outputs": [],
   "source": []
  }
 ],
 "metadata": {
  "kernelspec": {
   "display_name": "Python 3",
   "language": "python",
   "name": "python3"
  },
  "language_info": {
   "codemirror_mode": {
    "name": "ipython",
    "version": 3
   },
   "file_extension": ".py",
   "mimetype": "text/x-python",
   "name": "python",
   "nbconvert_exporter": "python",
   "pygments_lexer": "ipython3",
   "version": "3.5.1"
  }
 },
 "nbformat": 4,
 "nbformat_minor": 0
}
